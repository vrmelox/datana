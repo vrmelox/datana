{
 "cells": [
  {
   "cell_type": "markdown",
   "id": "082af74b",
   "metadata": {},
   "source": [
    "|Heures de formation (x)    | Score au test (y) |\n",
    "|---------------------------|-------------------|\n",
    "|   2                       |               65  |\n",
    "|   4                       |               70  |\n",
    "|   6                       |               75  |\n",
    "|   8                       |               80  |\n",
    "|   10                      |               85  |\n",
    "\n",
    "**Consignes** :\n",
    "\n",
    "1. Trouve l'équation de la droite de régression linéaire _y_ = _ax_ + _b_ qui permet de prédire le score _𝑦_ en fonction des heures de formation _𝑥_\n",
    "2. Prédit le score d'un employé ayant suivi *7 heures* de formation.\n",
    "3. Calcule l'erreur quadratique moyenne (MSE) sur ces données."
   ]
  },
  {
   "cell_type": "markdown",
   "id": "a5f2876e",
   "metadata": {},
   "source": [
    "# Résolutions "
   ]
  },
  {
   "cell_type": "markdown",
   "id": "8c75f52d",
   "metadata": {},
   "source": [
    "- Le nombre d'heures à étudier (_x_) est la variable indépendante\n",
    "- Le score obtenu est la variable (_y_) dépendante à prédire "
   ]
  },
  {
   "cell_type": "markdown",
   "id": "c128040f",
   "metadata": {
    "vscode": {
     "languageId": "plaintext"
    }
   },
   "source": [
    "## Point moyen de nuage"
   ]
  },
  {
   "cell_type": "code",
   "execution_count": 2,
   "id": "a1c42b6c",
   "metadata": {},
   "outputs": [],
   "source": [
    "import numpy as np"
   ]
  },
  {
   "cell_type": "code",
   "execution_count": 3,
   "id": "7731daad",
   "metadata": {},
   "outputs": [],
   "source": [
    "x = (2 + 4 + 6 + 8 + 10) / 5"
   ]
  },
  {
   "cell_type": "code",
   "execution_count": 4,
   "id": "b018d80f",
   "metadata": {},
   "outputs": [],
   "source": [
    "y = ( 65 + 70 + 75 + 80 + 85) / 5"
   ]
  },
  {
   "cell_type": "code",
   "execution_count": 5,
   "id": "e4db35a7",
   "metadata": {},
   "outputs": [
    {
     "name": "stdout",
     "output_type": "stream",
     "text": [
      "Point moyen commun (x;y) est de (6.0;75.0)\n"
     ]
    }
   ],
   "source": [
    "print(f\"Point moyen commun (x;y) est de ({x};{y})\")"
   ]
  },
  {
   "cell_type": "markdown",
   "id": "e170682f",
   "metadata": {},
   "source": [
    "## Calculons la variance V(x)"
   ]
  },
  {
   "cell_type": "code",
   "execution_count": 6,
   "id": "8f685dbb",
   "metadata": {},
   "outputs": [],
   "source": [
    "V = np.array([\n",
    "    2, 4, 6, 8, 10\n",
    "]) - x\n",
    "V **= 2\n",
    "V = np.sum(V)\n",
    "V = V * 1 /5"
   ]
  },
  {
   "cell_type": "code",
   "execution_count": 7,
   "id": "40040bad",
   "metadata": {},
   "outputs": [
    {
     "name": "stdout",
     "output_type": "stream",
     "text": [
      "Variance V(x) = 8.0\n"
     ]
    }
   ],
   "source": [
    "print(f\"Variance V(x) = {V}\")"
   ]
  },
  {
   "cell_type": "code",
   "execution_count": 8,
   "id": "402ffc38",
   "metadata": {},
   "outputs": [],
   "source": [
    "v_x = np.array([2, 4, 6, 8, 10])\n",
    "v_y = np.array([65, 70, 75, 80, 85])\n",
    "Cov_x_y = np.sum(v_x * v_y) / 5\n",
    "Cov_x_y -= (x * y) "
   ]
  },
  {
   "cell_type": "code",
   "execution_count": 9,
   "id": "acde55bc",
   "metadata": {},
   "outputs": [
    {
     "name": "stdout",
     "output_type": "stream",
     "text": [
      "Covariance (x;y) = 20.0\n"
     ]
    }
   ],
   "source": [
    "print(f\"Covariance (x;y) = {Cov_x_y}\")"
   ]
  },
  {
   "cell_type": "markdown",
   "id": "8ec2371e",
   "metadata": {},
   "source": [
    "## Calculons la pente a et l’ordonnée à l’origine b"
   ]
  },
  {
   "cell_type": "code",
   "execution_count": 10,
   "id": "be47ae53",
   "metadata": {},
   "outputs": [],
   "source": [
    "a = Cov_x_y / V"
   ]
  },
  {
   "cell_type": "code",
   "execution_count": 11,
   "id": "7b55fe1b",
   "metadata": {},
   "outputs": [
    {
     "name": "stdout",
     "output_type": "stream",
     "text": [
      "Pente a = 2.5\n"
     ]
    }
   ],
   "source": [
    "print(f\"Pente a = {a}\")"
   ]
  },
  {
   "cell_type": "code",
   "execution_count": 12,
   "id": "fd56717a",
   "metadata": {},
   "outputs": [],
   "source": [
    "b = y - (a * x)"
   ]
  },
  {
   "cell_type": "code",
   "execution_count": 13,
   "id": "e71e30e2",
   "metadata": {},
   "outputs": [
    {
     "name": "stdout",
     "output_type": "stream",
     "text": [
      "L’ordonnée à l’origine b = 60.0\n"
     ]
    }
   ],
   "source": [
    "print(f\"L’ordonnée à l’origine b = {b}\")"
   ]
  },
  {
   "cell_type": "markdown",
   "id": "dfe900cb",
   "metadata": {},
   "source": [
    "## L'équation de la droite"
   ]
  },
  {
   "cell_type": "code",
   "execution_count": 14,
   "id": "84b0dcfc",
   "metadata": {},
   "outputs": [
    {
     "name": "stdout",
     "output_type": "stream",
     "text": [
      "L'équation de la droite de régression linéaire y = 2.5x + 60.0\n"
     ]
    }
   ],
   "source": [
    "print(f\"L'équation de la droite de régression linéaire y = {a}x + {b}\")"
   ]
  },
  {
   "cell_type": "markdown",
   "id": "69fb9919",
   "metadata": {},
   "source": [
    "## Prédiction du score d'un employé ayant suivi 7 heures de formation"
   ]
  },
  {
   "cell_type": "code",
   "execution_count": 15,
   "id": "301e7b38",
   "metadata": {},
   "outputs": [],
   "source": [
    "score_7 = a * 7 + b"
   ]
  },
  {
   "cell_type": "code",
   "execution_count": 16,
   "id": "cc2de234",
   "metadata": {},
   "outputs": [
    {
     "name": "stdout",
     "output_type": "stream",
     "text": [
      "Le score d'un employé ayant suivi 7 heures de formation serait de 77.5\n"
     ]
    }
   ],
   "source": [
    "print(f\"Le score d'un employé ayant suivi 7 heures de formation serait de {score_7}\")"
   ]
  },
  {
   "cell_type": "markdown",
   "id": "fb640d69",
   "metadata": {},
   "source": [
    "## Calcul de l'erreur quadratique moyenne (MSE) sur ces données"
   ]
  },
  {
   "cell_type": "code",
   "execution_count": 19,
   "id": "ba4ecd85",
   "metadata": {},
   "outputs": [],
   "source": [
    "error_mse = v_x * a + b\n",
    "error_mse = np.pow((v_y - error_mse), 2)\n",
    "error_mse = np.sum(error_mse) / 5\n",
    "error_mse = np.sqrt(error_mse)\n"
   ]
  },
  {
   "cell_type": "code",
   "execution_count": null,
   "id": "9796d4f0",
   "metadata": {},
   "outputs": [
    {
     "name": "stdout",
     "output_type": "stream",
     "text": [
      "Le RMSE est de 0.0\n"
     ]
    }
   ],
   "source": [
    "print(f\"Le RMSE est de {error_mse}\")\n"
   ]
  }
 ],
 "metadata": {
  "kernelspec": {
   "display_name": "Python 3",
   "language": "python",
   "name": "python3"
  },
  "language_info": {
   "codemirror_mode": {
    "name": "ipython",
    "version": 3
   },
   "file_extension": ".py",
   "mimetype": "text/x-python",
   "name": "python",
   "nbconvert_exporter": "python",
   "pygments_lexer": "ipython3",
   "version": "3.12.3"
  }
 },
 "nbformat": 4,
 "nbformat_minor": 5
}
