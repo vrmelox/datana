{
 "cells": [
  {
   "cell_type": "markdown",
   "id": "082af74b",
   "metadata": {},
   "source": [
    "|Heures de formation (x)    | Score au test (y) |\n",
    "|---------------------------|-------------------|\n",
    "|   2                       |               65  |\n",
    "|   4                       |               70  |\n",
    "|   6                       |               75  |\n",
    "|   8                       |               80  |\n",
    "|   10                      |               85  |\n",
    "\n",
    "**Consignes** :\n",
    "\n",
    "1. Trouve l'équation de la droite de régression linéaire _y_ = _ax_ + _b_ qui permet de prédire le score _𝑦_ en fonction des heures de formation _𝑥_\n",
    "2. Prédit le score d'un employé ayant suivi *7 heures* de formation.\n",
    "3. Calcule l'erreur quadratique moyenne (MSE) sur ces données."
   ]
  },
  {
   "cell_type": "markdown",
   "id": "a5f2876e",
   "metadata": {},
   "source": [
    "## Résolutions "
   ]
  },
  {
   "cell_type": "markdown",
   "id": "8c75f52d",
   "metadata": {},
   "source": [
    "- Le nombre d'heures à étudier (_x_) est la variable indépendante\n",
    "- Le score obtenu"
   ]
  },
  {
   "cell_type": "code",
   "execution_count": null,
   "id": "c128040f",
   "metadata": {
    "vscode": {
     "languageId": "plaintext"
    }
   },
   "outputs": [],
   "source": []
  }
 ],
 "metadata": {
  "language_info": {
   "name": "python"
  }
 },
 "nbformat": 4,
 "nbformat_minor": 5
}
