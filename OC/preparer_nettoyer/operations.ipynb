{
 "cells": [
  {
   "cell_type": "code",
   "execution_count": 4,
   "id": "5f421675",
   "metadata": {},
   "outputs": [],
   "source": [
    "import pandas as pd\n",
    "import numpy as np\n",
    "import matplotlib.pyplot as plt\n",
    "import seaborn as sns\n",
    "import datetime as dt\n",
    "import scipy.stats as st\n",
    "import re"
   ]
  },
  {
   "cell_type": "code",
   "execution_count": 3,
   "id": "7a9984e9",
   "metadata": {},
   "outputs": [],
   "source": [
    "data = pd.read_csv('operations.csv', encoding='utf-8', na_values=[\"\", np.nan])"
   ]
  },
  {
   "cell_type": "code",
   "execution_count": 5,
   "id": "b18c0a1a",
   "metadata": {},
   "outputs": [
    {
     "data": {
      "text/html": [
       "<div>\n",
       "<style scoped>\n",
       "    .dataframe tbody tr th:only-of-type {\n",
       "        vertical-align: middle;\n",
       "    }\n",
       "\n",
       "    .dataframe tbody tr th {\n",
       "        vertical-align: top;\n",
       "    }\n",
       "\n",
       "    .dataframe thead th {\n",
       "        text-align: right;\n",
       "    }\n",
       "</style>\n",
       "<table border=\"1\" class=\"dataframe\">\n",
       "  <thead>\n",
       "    <tr style=\"text-align: right;\">\n",
       "      <th></th>\n",
       "      <th>date_operation</th>\n",
       "      <th>libelle</th>\n",
       "      <th>montant</th>\n",
       "      <th>solde_avt_ope</th>\n",
       "      <th>categ</th>\n",
       "    </tr>\n",
       "  </thead>\n",
       "  <tbody>\n",
       "    <tr>\n",
       "      <th>0</th>\n",
       "      <td>2023-03-31</td>\n",
       "      <td>DON XX XX XX XX XX XX XX</td>\n",
       "      <td>-1.44</td>\n",
       "      <td>1515.25</td>\n",
       "      <td>AUTRE</td>\n",
       "    </tr>\n",
       "    <tr>\n",
       "      <th>1</th>\n",
       "      <td>2023-04-03</td>\n",
       "      <td>CARTE XX XX RAPT XX</td>\n",
       "      <td>-24.00</td>\n",
       "      <td>1513.81</td>\n",
       "      <td>TRANSPORT</td>\n",
       "    </tr>\n",
       "    <tr>\n",
       "      <th>2</th>\n",
       "      <td>2023-04-03</td>\n",
       "      <td>CARTE XX XX RAPT XX</td>\n",
       "      <td>-73.00</td>\n",
       "      <td>1489.81</td>\n",
       "      <td>TRANSPORT</td>\n",
       "    </tr>\n",
       "    <tr>\n",
       "      <th>3</th>\n",
       "      <td>2023-04-03</td>\n",
       "      <td>VIREMENT XX XX XX XX XX XX XX XX XX XX XX XX</td>\n",
       "      <td>676.00</td>\n",
       "      <td>1416.81</td>\n",
       "      <td>AUTRE</td>\n",
       "    </tr>\n",
       "    <tr>\n",
       "      <th>4</th>\n",
       "      <td>2023-04-03</td>\n",
       "      <td>VIREMENT XX XX XX XX XX XX</td>\n",
       "      <td>4.80</td>\n",
       "      <td>2092.81</td>\n",
       "      <td>AUTRE</td>\n",
       "    </tr>\n",
       "  </tbody>\n",
       "</table>\n",
       "</div>"
      ],
      "text/plain": [
       "  date_operation                                       libelle  montant  \\\n",
       "0     2023-03-31                      DON XX XX XX XX XX XX XX    -1.44   \n",
       "1     2023-04-03                           CARTE XX XX RAPT XX   -24.00   \n",
       "2     2023-04-03                           CARTE XX XX RAPT XX   -73.00   \n",
       "3     2023-04-03  VIREMENT XX XX XX XX XX XX XX XX XX XX XX XX   676.00   \n",
       "4     2023-04-03                    VIREMENT XX XX XX XX XX XX     4.80   \n",
       "\n",
       "   solde_avt_ope      categ  \n",
       "0        1515.25      AUTRE  \n",
       "1        1513.81  TRANSPORT  \n",
       "2        1489.81  TRANSPORT  \n",
       "3        1416.81      AUTRE  \n",
       "4        2092.81      AUTRE  "
      ]
     },
     "execution_count": 5,
     "metadata": {},
     "output_type": "execute_result"
    }
   ],
   "source": [
    "data.head()"
   ]
  },
  {
   "cell_type": "code",
   "execution_count": 7,
   "id": "b8197411",
   "metadata": {},
   "outputs": [
    {
     "data": {
      "text/plain": [
       "(309, 5)"
      ]
     },
     "execution_count": 7,
     "metadata": {},
     "output_type": "execute_result"
    }
   ],
   "source": [
    "data.shape"
   ]
  },
  {
   "cell_type": "code",
   "execution_count": 9,
   "id": "c8aaaa40",
   "metadata": {},
   "outputs": [
    {
     "data": {
      "text/html": [
       "<div>\n",
       "<style scoped>\n",
       "    .dataframe tbody tr th:only-of-type {\n",
       "        vertical-align: middle;\n",
       "    }\n",
       "\n",
       "    .dataframe tbody tr th {\n",
       "        vertical-align: top;\n",
       "    }\n",
       "\n",
       "    .dataframe thead th {\n",
       "        text-align: right;\n",
       "    }\n",
       "</style>\n",
       "<table border=\"1\" class=\"dataframe\">\n",
       "  <thead>\n",
       "    <tr style=\"text-align: right;\">\n",
       "      <th></th>\n",
       "      <th>montant</th>\n",
       "      <th>solde_avt_ope</th>\n",
       "    </tr>\n",
       "  </thead>\n",
       "  <tbody>\n",
       "    <tr>\n",
       "      <th>count</th>\n",
       "      <td>307.000000</td>\n",
       "      <td>309.000000</td>\n",
       "    </tr>\n",
       "    <tr>\n",
       "      <th>mean</th>\n",
       "      <td>-45.911889</td>\n",
       "      <td>3396.117799</td>\n",
       "    </tr>\n",
       "    <tr>\n",
       "      <th>std</th>\n",
       "      <td>874.240605</td>\n",
       "      <td>666.180280</td>\n",
       "    </tr>\n",
       "    <tr>\n",
       "      <th>min</th>\n",
       "      <td>-15000.000000</td>\n",
       "      <td>1416.810000</td>\n",
       "    </tr>\n",
       "    <tr>\n",
       "      <th>25%</th>\n",
       "      <td>-20.495000</td>\n",
       "      <td>3010.760000</td>\n",
       "    </tr>\n",
       "    <tr>\n",
       "      <th>50%</th>\n",
       "      <td>-9.600000</td>\n",
       "      <td>3453.960000</td>\n",
       "    </tr>\n",
       "    <tr>\n",
       "      <th>75%</th>\n",
       "      <td>-2.710000</td>\n",
       "      <td>3783.860000</td>\n",
       "    </tr>\n",
       "    <tr>\n",
       "      <th>max</th>\n",
       "      <td>1071.600000</td>\n",
       "      <td>4709.310000</td>\n",
       "    </tr>\n",
       "  </tbody>\n",
       "</table>\n",
       "</div>"
      ],
      "text/plain": [
       "            montant  solde_avt_ope\n",
       "count    307.000000     309.000000\n",
       "mean     -45.911889    3396.117799\n",
       "std      874.240605     666.180280\n",
       "min   -15000.000000    1416.810000\n",
       "25%      -20.495000    3010.760000\n",
       "50%       -9.600000    3453.960000\n",
       "75%       -2.710000    3783.860000\n",
       "max     1071.600000    4709.310000"
      ]
     },
     "execution_count": 9,
     "metadata": {},
     "output_type": "execute_result"
    }
   ],
   "source": [
    "data.describe()"
   ]
  },
  {
   "cell_type": "code",
   "execution_count": 10,
   "id": "b07b184d",
   "metadata": {},
   "outputs": [],
   "source": [
    "data['date_operation'] = pd.to_datetime(data['date_operation'])"
   ]
  },
  {
   "cell_type": "code",
   "execution_count": 12,
   "id": "bb859551",
   "metadata": {},
   "outputs": [
    {
     "data": {
      "text/plain": [
       "date_operation    datetime64[ns]\n",
       "libelle                   object\n",
       "montant                  float64\n",
       "solde_avt_ope            float64\n",
       "categ                     object\n",
       "dtype: object"
      ]
     },
     "execution_count": 12,
     "metadata": {},
     "output_type": "execute_result"
    }
   ],
   "source": [
    "data.dtypes"
   ]
  },
  {
   "cell_type": "code",
   "execution_count": 13,
   "id": "082b74f9",
   "metadata": {},
   "outputs": [
    {
     "data": {
      "text/plain": [
       "date_operation    0\n",
       "libelle           0\n",
       "montant           2\n",
       "solde_avt_ope     0\n",
       "categ             1\n",
       "dtype: int64"
      ]
     },
     "execution_count": 13,
     "metadata": {},
     "output_type": "execute_result"
    }
   ],
   "source": [
    "data.isnull().sum()"
   ]
  },
  {
   "cell_type": "code",
   "execution_count": 16,
   "id": "b78392f9",
   "metadata": {},
   "outputs": [],
   "source": [
    "data_na = data.loc[data['montant'].isnull()]\n",
    "\n",
    "for index in data_na.index:\n",
    "    data.loc[index, 'montant'] = data.loc[index+1, 'solde_avt_ope'] - data.loc[index, 'solde_avt_ope']"
   ]
  },
  {
   "cell_type": "code",
   "execution_count": 17,
   "id": "d33a7145",
   "metadata": {},
   "outputs": [
    {
     "data": {
      "text/html": [
       "<div>\n",
       "<style scoped>\n",
       "    .dataframe tbody tr th:only-of-type {\n",
       "        vertical-align: middle;\n",
       "    }\n",
       "\n",
       "    .dataframe tbody tr th {\n",
       "        vertical-align: top;\n",
       "    }\n",
       "\n",
       "    .dataframe thead th {\n",
       "        text-align: right;\n",
       "    }\n",
       "</style>\n",
       "<table border=\"1\" class=\"dataframe\">\n",
       "  <thead>\n",
       "    <tr style=\"text-align: right;\">\n",
       "      <th></th>\n",
       "      <th>date_operation</th>\n",
       "      <th>libelle</th>\n",
       "      <th>montant</th>\n",
       "      <th>solde_avt_ope</th>\n",
       "      <th>categ</th>\n",
       "    </tr>\n",
       "  </thead>\n",
       "  <tbody>\n",
       "    <tr>\n",
       "      <th>156</th>\n",
       "      <td>2023-07-06</td>\n",
       "      <td>PRELEVEMENT XX TELEPHONE XX XX</td>\n",
       "      <td>-36.48</td>\n",
       "      <td>3295.68</td>\n",
       "      <td>NaN</td>\n",
       "    </tr>\n",
       "  </tbody>\n",
       "</table>\n",
       "</div>"
      ],
      "text/plain": [
       "    date_operation                         libelle  montant  solde_avt_ope  \\\n",
       "156     2023-07-06  PRELEVEMENT XX TELEPHONE XX XX   -36.48        3295.68   \n",
       "\n",
       "    categ  \n",
       "156   NaN  "
      ]
     },
     "execution_count": 17,
     "metadata": {},
     "output_type": "execute_result"
    }
   ],
   "source": [
    "data.loc[data['categ'].isnull()]"
   ]
  },
  {
   "cell_type": "code",
   "execution_count": 18,
   "id": "a902e3ad",
   "metadata": {},
   "outputs": [
    {
     "data": {
      "text/html": [
       "<div>\n",
       "<style scoped>\n",
       "    .dataframe tbody tr th:only-of-type {\n",
       "        vertical-align: middle;\n",
       "    }\n",
       "\n",
       "    .dataframe tbody tr th {\n",
       "        vertical-align: top;\n",
       "    }\n",
       "\n",
       "    .dataframe thead th {\n",
       "        text-align: right;\n",
       "    }\n",
       "</style>\n",
       "<table border=\"1\" class=\"dataframe\">\n",
       "  <thead>\n",
       "    <tr style=\"text-align: right;\">\n",
       "      <th></th>\n",
       "      <th>date_operation</th>\n",
       "      <th>libelle</th>\n",
       "      <th>montant</th>\n",
       "      <th>solde_avt_ope</th>\n",
       "      <th>categ</th>\n",
       "    </tr>\n",
       "  </thead>\n",
       "  <tbody>\n",
       "    <tr>\n",
       "      <th>8</th>\n",
       "      <td>2023-04-05</td>\n",
       "      <td>PRELEVEMENT XX TELEPHONE XX XX</td>\n",
       "      <td>-7.02</td>\n",
       "      <td>2056.02</td>\n",
       "      <td>FACTURE TELEPHONE</td>\n",
       "    </tr>\n",
       "    <tr>\n",
       "      <th>62</th>\n",
       "      <td>2023-05-09</td>\n",
       "      <td>PRELEVEMENT XX TELEPHONE XX XX</td>\n",
       "      <td>-7.02</td>\n",
       "      <td>4090.10</td>\n",
       "      <td>FACTURE TELEPHONE</td>\n",
       "    </tr>\n",
       "    <tr>\n",
       "      <th>102</th>\n",
       "      <td>2023-06-07</td>\n",
       "      <td>PRELEVEMENT XX TELEPHONE XX XX</td>\n",
       "      <td>-6.38</td>\n",
       "      <td>4688.91</td>\n",
       "      <td>FACTURE TELEPHONE</td>\n",
       "    </tr>\n",
       "    <tr>\n",
       "      <th>156</th>\n",
       "      <td>2023-07-06</td>\n",
       "      <td>PRELEVEMENT XX TELEPHONE XX XX</td>\n",
       "      <td>-36.48</td>\n",
       "      <td>3295.68</td>\n",
       "      <td>NaN</td>\n",
       "    </tr>\n",
       "    <tr>\n",
       "      <th>204</th>\n",
       "      <td>2023-08-07</td>\n",
       "      <td>PRELEVEMENT XX TELEPHONE XX XX</td>\n",
       "      <td>-7.46</td>\n",
       "      <td>3751.73</td>\n",
       "      <td>FACTURE TELEPHONE</td>\n",
       "    </tr>\n",
       "    <tr>\n",
       "      <th>260</th>\n",
       "      <td>2023-09-05</td>\n",
       "      <td>PRELEVEMENT XX TELEPHONE XX XX</td>\n",
       "      <td>-6.38</td>\n",
       "      <td>3453.96</td>\n",
       "      <td>FACTURE TELEPHONE</td>\n",
       "    </tr>\n",
       "    <tr>\n",
       "      <th>308</th>\n",
       "      <td>2023-10-06</td>\n",
       "      <td>PRELEVEMENT XX TELEPHONE XX XX</td>\n",
       "      <td>-13.58</td>\n",
       "      <td>2413.58</td>\n",
       "      <td>FACTURE TELEPHONE</td>\n",
       "    </tr>\n",
       "  </tbody>\n",
       "</table>\n",
       "</div>"
      ],
      "text/plain": [
       "    date_operation                         libelle  montant  solde_avt_ope  \\\n",
       "8       2023-04-05  PRELEVEMENT XX TELEPHONE XX XX    -7.02        2056.02   \n",
       "62      2023-05-09  PRELEVEMENT XX TELEPHONE XX XX    -7.02        4090.10   \n",
       "102     2023-06-07  PRELEVEMENT XX TELEPHONE XX XX    -6.38        4688.91   \n",
       "156     2023-07-06  PRELEVEMENT XX TELEPHONE XX XX   -36.48        3295.68   \n",
       "204     2023-08-07  PRELEVEMENT XX TELEPHONE XX XX    -7.46        3751.73   \n",
       "260     2023-09-05  PRELEVEMENT XX TELEPHONE XX XX    -6.38        3453.96   \n",
       "308     2023-10-06  PRELEVEMENT XX TELEPHONE XX XX   -13.58        2413.58   \n",
       "\n",
       "                 categ  \n",
       "8    FACTURE TELEPHONE  \n",
       "62   FACTURE TELEPHONE  \n",
       "102  FACTURE TELEPHONE  \n",
       "156                NaN  \n",
       "204  FACTURE TELEPHONE  \n",
       "260  FACTURE TELEPHONE  \n",
       "308  FACTURE TELEPHONE  "
      ]
     },
     "execution_count": 18,
     "metadata": {},
     "output_type": "execute_result"
    }
   ],
   "source": [
    "data.loc[data['libelle'] == 'PRELEVEMENT XX TELEPHONE XX XX']"
   ]
  },
  {
   "cell_type": "code",
   "execution_count": 19,
   "id": "5de918c8",
   "metadata": {},
   "outputs": [],
   "source": [
    "data.loc[data['categ'].isnull(), 'categ'] = 'FACTURE TELEPHONE'"
   ]
  },
  {
   "cell_type": "code",
   "execution_count": 20,
   "id": "58b341ea",
   "metadata": {},
   "outputs": [
    {
     "data": {
      "text/html": [
       "<div>\n",
       "<style scoped>\n",
       "    .dataframe tbody tr th:only-of-type {\n",
       "        vertical-align: middle;\n",
       "    }\n",
       "\n",
       "    .dataframe tbody tr th {\n",
       "        vertical-align: top;\n",
       "    }\n",
       "\n",
       "    .dataframe thead th {\n",
       "        text-align: right;\n",
       "    }\n",
       "</style>\n",
       "<table border=\"1\" class=\"dataframe\">\n",
       "  <thead>\n",
       "    <tr style=\"text-align: right;\">\n",
       "      <th></th>\n",
       "      <th>date_operation</th>\n",
       "      <th>libelle</th>\n",
       "      <th>montant</th>\n",
       "      <th>solde_avt_ope</th>\n",
       "      <th>categ</th>\n",
       "    </tr>\n",
       "  </thead>\n",
       "  <tbody>\n",
       "    <tr>\n",
       "      <th>44</th>\n",
       "      <td>2023-04-25</td>\n",
       "      <td>CARTE XX XX LES ANCIENS ROBINSON XX</td>\n",
       "      <td>-32.67</td>\n",
       "      <td>3647.67</td>\n",
       "      <td>COURSES</td>\n",
       "    </tr>\n",
       "  </tbody>\n",
       "</table>\n",
       "</div>"
      ],
      "text/plain": [
       "   date_operation                              libelle  montant  \\\n",
       "44     2023-04-25  CARTE XX XX LES ANCIENS ROBINSON XX   -32.67   \n",
       "\n",
       "    solde_avt_ope    categ  \n",
       "44        3647.67  COURSES  "
      ]
     },
     "execution_count": 20,
     "metadata": {},
     "output_type": "execute_result"
    }
   ],
   "source": [
    "data[data.duplicated()]"
   ]
  },
  {
   "cell_type": "code",
   "execution_count": 28,
   "id": "5e6e7b19",
   "metadata": {},
   "outputs": [],
   "source": [
    "data.drop_duplicates(subset=['date_operation', 'libelle', 'montant', 'solde_avt_ope'], inplace=True, ignore_index=True)"
   ]
  },
  {
   "cell_type": "code",
   "execution_count": 23,
   "id": "71a78be3",
   "metadata": {},
   "outputs": [
    {
     "data": {
      "text/html": [
       "<div>\n",
       "<style scoped>\n",
       "    .dataframe tbody tr th:only-of-type {\n",
       "        vertical-align: middle;\n",
       "    }\n",
       "\n",
       "    .dataframe tbody tr th {\n",
       "        vertical-align: top;\n",
       "    }\n",
       "\n",
       "    .dataframe thead th {\n",
       "        text-align: right;\n",
       "    }\n",
       "</style>\n",
       "<table border=\"1\" class=\"dataframe\">\n",
       "  <thead>\n",
       "    <tr style=\"text-align: right;\">\n",
       "      <th></th>\n",
       "      <th>date_operation</th>\n",
       "      <th>montant</th>\n",
       "      <th>solde_avt_ope</th>\n",
       "    </tr>\n",
       "  </thead>\n",
       "  <tbody>\n",
       "    <tr>\n",
       "      <th>count</th>\n",
       "      <td>308</td>\n",
       "      <td>308.000000</td>\n",
       "      <td>308.000000</td>\n",
       "    </tr>\n",
       "    <tr>\n",
       "      <th>mean</th>\n",
       "      <td>2023-07-05 10:59:13.246753280</td>\n",
       "      <td>-45.782013</td>\n",
       "      <td>3395.301071</td>\n",
       "    </tr>\n",
       "    <tr>\n",
       "      <th>min</th>\n",
       "      <td>2023-03-31 00:00:00</td>\n",
       "      <td>-15000.000000</td>\n",
       "      <td>1416.810000</td>\n",
       "    </tr>\n",
       "    <tr>\n",
       "      <th>25%</th>\n",
       "      <td>2023-05-21 06:00:00</td>\n",
       "      <td>-20.447500</td>\n",
       "      <td>3010.737500</td>\n",
       "    </tr>\n",
       "    <tr>\n",
       "      <th>50%</th>\n",
       "      <td>2023-07-05 12:00:00</td>\n",
       "      <td>-9.600000</td>\n",
       "      <td>3452.465000</td>\n",
       "    </tr>\n",
       "    <tr>\n",
       "      <th>75%</th>\n",
       "      <td>2023-08-21 00:00:00</td>\n",
       "      <td>-2.715000</td>\n",
       "      <td>3787.232500</td>\n",
       "    </tr>\n",
       "    <tr>\n",
       "      <th>max</th>\n",
       "      <td>2023-10-06 00:00:00</td>\n",
       "      <td>1071.600000</td>\n",
       "      <td>4709.310000</td>\n",
       "    </tr>\n",
       "    <tr>\n",
       "      <th>std</th>\n",
       "      <td>NaN</td>\n",
       "      <td>872.818105</td>\n",
       "      <td>667.109412</td>\n",
       "    </tr>\n",
       "  </tbody>\n",
       "</table>\n",
       "</div>"
      ],
      "text/plain": [
       "                      date_operation       montant  solde_avt_ope\n",
       "count                            308    308.000000     308.000000\n",
       "mean   2023-07-05 10:59:13.246753280    -45.782013    3395.301071\n",
       "min              2023-03-31 00:00:00 -15000.000000    1416.810000\n",
       "25%              2023-05-21 06:00:00    -20.447500    3010.737500\n",
       "50%              2023-07-05 12:00:00     -9.600000    3452.465000\n",
       "75%              2023-08-21 00:00:00     -2.715000    3787.232500\n",
       "max              2023-10-06 00:00:00   1071.600000    4709.310000\n",
       "std                              NaN    872.818105     667.109412"
      ]
     },
     "execution_count": 23,
     "metadata": {},
     "output_type": "execute_result"
    }
   ],
   "source": [
    "data.describe()"
   ]
  },
  {
   "cell_type": "code",
   "execution_count": 24,
   "id": "66eee3ea",
   "metadata": {},
   "outputs": [],
   "source": [
    "i = data.loc[data['montant']==-15000].index[0]"
   ]
  },
  {
   "cell_type": "code",
   "execution_count": null,
   "id": "1fb8c207",
   "metadata": {},
   "outputs": [
    {
     "data": {
      "text/html": [
       "<div>\n",
       "<style scoped>\n",
       "    .dataframe tbody tr th:only-of-type {\n",
       "        vertical-align: middle;\n",
       "    }\n",
       "\n",
       "    .dataframe tbody tr th {\n",
       "        vertical-align: top;\n",
       "    }\n",
       "\n",
       "    .dataframe thead th {\n",
       "        text-align: right;\n",
       "    }\n",
       "</style>\n",
       "<table border=\"1\" class=\"dataframe\">\n",
       "  <thead>\n",
       "    <tr style=\"text-align: right;\">\n",
       "      <th></th>\n",
       "      <th>date_operation</th>\n",
       "      <th>libelle</th>\n",
       "      <th>montant</th>\n",
       "      <th>solde_avt_ope</th>\n",
       "      <th>categ</th>\n",
       "    </tr>\n",
       "  </thead>\n",
       "  <tbody>\n",
       "    <tr>\n",
       "      <th>197</th>\n",
       "      <td>2023-08-03</td>\n",
       "      <td>VIREMENT XX XX XX XX XX XX XX XX XX XX XX XX</td>\n",
       "      <td>676.00</td>\n",
       "      <td>3121.35</td>\n",
       "      <td>AUTRE</td>\n",
       "    </tr>\n",
       "    <tr>\n",
       "      <th>198</th>\n",
       "      <td>2023-08-03</td>\n",
       "      <td>CARTE XX XX XX XX</td>\n",
       "      <td>-15000.00</td>\n",
       "      <td>3797.35</td>\n",
       "      <td>AUTRE</td>\n",
       "    </tr>\n",
       "    <tr>\n",
       "      <th>199</th>\n",
       "      <td>2023-08-03</td>\n",
       "      <td>CARTE XX XX L'EPICERIE DEMBAS XX XX</td>\n",
       "      <td>-10.51</td>\n",
       "      <td>3782.96</td>\n",
       "      <td>AUTRE</td>\n",
       "    </tr>\n",
       "  </tbody>\n",
       "</table>\n",
       "</div>"
      ],
      "text/plain": [
       "    date_operation                                       libelle   montant  \\\n",
       "197     2023-08-03  VIREMENT XX XX XX XX XX XX XX XX XX XX XX XX    676.00   \n",
       "198     2023-08-03                             CARTE XX XX XX XX -15000.00   \n",
       "199     2023-08-03           CARTE XX XX L'EPICERIE DEMBAS XX XX    -10.51   \n",
       "\n",
       "     solde_avt_ope  categ  \n",
       "197        3121.35  AUTRE  \n",
       "198        3797.35  AUTRE  \n",
       "199        3782.96  AUTRE  "
      ]
     },
     "execution_count": 25,
     "metadata": {},
     "output_type": "execute_result"
    }
   ],
   "source": [
    "data.iloc[i-1:i+2,:]"
   ]
  },
  {
   "cell_type": "code",
   "execution_count": 29,
   "id": "e766c66f",
   "metadata": {},
   "outputs": [],
   "source": [
    "data.loc[data['montant']==-15000, 'montant'] = -14.39 #la somme provient du calcul des soldes"
   ]
  },
  {
   "cell_type": "code",
   "execution_count": 36,
   "id": "ced0ef6a",
   "metadata": {},
   "outputs": [
    {
     "data": {
      "image/png": "[encoded data removed]",
      "text/plain": [
       "<Figure size 640x480 with 1 Axes>"
      ]
     },
     "metadata": {},
     "output_type": "display_data"
    }
   ],
   "source": [
    "data.categ.value_counts(normalize=True).plot.pie(autopct='%1.1f%%')\n",
    "plt.axis('equal')\n",
    "plt.show()"
   ]
  },
  {
   "cell_type": "code",
   "execution_count": 47,
   "id": "1c2afdfb",
   "metadata": {},
   "outputs": [
    {
     "data": {
      "image/png": "[encoded data removed]",
      "text/plain": [
       "<Figure size 640x480 with 1 Axes>"
      ]
     },
     "metadata": {},
     "output_type": "display_data"
    }
   ],
   "source": [
    "counts = data.categ.value_counts(normalize=True) * 100\n",
    "ax = counts.plot(kind='bar')\n",
    "for i, v in enumerate(counts):\n",
    "    ax.text(i, v + 1, f\"{v:.1f}%\", ha='center', va='bottom')\n",
    "plt.xlabel('Les catégories')\n",
    "plt.ylabel('Pourcentages')\n",
    "plt.ylim(0, max(counts) + 10)\n",
    "plt.show()"
   ]
  },
  {
   "cell_type": "code",
   "execution_count": 52,
   "id": "4f87fd74",
   "metadata": {},
   "outputs": [],
   "source": [
    "data['quart_mois'] = [int((jour - 1)*4/31)+1 for jour in data['date_operation'].dt.day]"
   ]
  },
  {
   "cell_type": "code",
   "execution_count": 57,
   "id": "22c53557",
   "metadata": {},
   "outputs": [
    {
     "data": {
      "text/plain": [
       "<Axes: xlabel='quart_mois'>"
      ]
     },
     "execution_count": 57,
     "metadata": {},
     "output_type": "execute_result"
    },
    {
     "data": {
      "image/png": "[encoded data removed]",
      "text/plain": [
       "<Figure size 640x480 with 1 Axes>"
      ]
     },
     "metadata": {},
     "output_type": "display_data"
    }
   ],
   "source": [
    "data.quart_mois.value_counts(normalize=True).plot(kind='bar', width=0.1)"
   ]
  },
  {
   "cell_type": "code",
   "execution_count": 59,
   "id": "b6020af0",
   "metadata": {},
   "outputs": [
    {
     "data": {
      "image/png": "[encoded data removed]",
      "text/plain": [
       "<Figure size 640x480 with 1 Axes>"
      ]
     },
     "metadata": {},
     "output_type": "display_data"
    }
   ],
   "source": [
    "data[data.montant.abs() < 100].montant.hist(density=True, bins=20)\n",
    "plt.show()"
   ]
  },
  {
   "cell_type": "code",
   "execution_count": null,
   "id": "cfca7d35",
   "metadata": {},
   "outputs": [],
   "source": []
  }
 ],
 "metadata": {
  "kernelspec": {
   "display_name": "Python 3",
   "language": "python",
   "name": "python3"
  },
  "language_info": {
   "codemirror_mode": {
    "name": "ipython",
    "version": 3
   },
   "file_extension": ".py",
   "mimetype": "text/x-python",
   "name": "python",
   "nbconvert_exporter": "python",
   "pygments_lexer": "ipython3",
   "version": "3.12.3"
  }
 },
 "nbformat": 4,
 "nbformat_minor": 5
}
