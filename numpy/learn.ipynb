{
 "cells": [
  {
   "cell_type": "code",
   "execution_count": 1,
   "id": "2ac38483",
   "metadata": {},
   "outputs": [],
   "source": [
    "import numpy as np"
   ]
  },
  {
   "cell_type": "markdown",
   "id": "5ccfd0ba",
   "metadata": {},
   "source": [
    "On utilise numpy pour des calculs numériques et il se base sur C"
   ]
  },
  {
   "cell_type": "markdown",
   "id": "dae95c23",
   "metadata": {},
   "source": [
    "## Créer un tableau Numpy"
   ]
  },
  {
   "cell_type": "code",
   "execution_count": 2,
   "id": "7c8c9eae",
   "metadata": {},
   "outputs": [],
   "source": [
    "data = np.array(\n",
    "    [\n",
    "        [1,5,9],\n",
    "        [8,9,7]\n",
    "    ]\n",
    ")"
   ]
  },
  {
   "cell_type": "code",
   "execution_count": 3,
   "id": "60eaca6a",
   "metadata": {},
   "outputs": [
    {
     "data": {
      "text/plain": [
       "array([[1, 5, 9],\n",
       "       [8, 9, 7]])"
      ]
     },
     "execution_count": 3,
     "metadata": {},
     "output_type": "execute_result"
    }
   ],
   "source": [
    "data"
   ]
  },
  {
   "cell_type": "markdown",
   "id": "52dfaeb9",
   "metadata": {},
   "source": [
    "_ndim_ nous permet de connaitre le nombre de dimensions d'un tableau"
   ]
  },
  {
   "cell_type": "code",
   "execution_count": 4,
   "id": "2f1bdd6f",
   "metadata": {},
   "outputs": [
    {
     "data": {
      "text/plain": [
       "2"
      ]
     },
     "execution_count": 4,
     "metadata": {},
     "output_type": "execute_result"
    }
   ],
   "source": [
    "data.ndim"
   ]
  },
  {
   "cell_type": "markdown",
   "id": "78a03233",
   "metadata": {},
   "source": [
    "_shape_, quant à elle, nous permet d'avoir la forme"
   ]
  },
  {
   "cell_type": "code",
   "execution_count": 6,
   "id": "5258cc39",
   "metadata": {},
   "outputs": [
    {
     "data": {
      "text/plain": [
       "(2, 3)"
      ]
     },
     "execution_count": 6,
     "metadata": {},
     "output_type": "execute_result"
    }
   ],
   "source": [
    "data.shape"
   ]
  },
  {
   "cell_type": "markdown",
   "id": "5aaace99",
   "metadata": {},
   "source": [
    "_size_ permet de connaitre le nombre d'éléments dedans"
   ]
  },
  {
   "cell_type": "code",
   "execution_count": 7,
   "id": "f280be4d",
   "metadata": {},
   "outputs": [
    {
     "data": {
      "text/plain": [
       "6"
      ]
     },
     "execution_count": 7,
     "metadata": {},
     "output_type": "execute_result"
    }
   ],
   "source": [
    "data.size"
   ]
  },
  {
   "cell_type": "markdown",
   "id": "8878595b",
   "metadata": {},
   "source": [
    "## Les attributs d'un tableau numpy"
   ]
  },
  {
   "cell_type": "markdown",
   "id": "28e287b2",
   "metadata": {},
   "source": [
    "Voici un tableau d'un seul élément"
   ]
  },
  {
   "cell_type": "code",
   "execution_count": 8,
   "id": "dda32cec",
   "metadata": {},
   "outputs": [],
   "source": [
    "data_un = np.array([\n",
    "    1\n",
    "])"
   ]
  },
  {
   "cell_type": "markdown",
   "id": "26193070",
   "metadata": {},
   "source": [
    "Tableau d'une liste d'éléments"
   ]
  },
  {
   "cell_type": "code",
   "execution_count": 9,
   "id": "12a13fe9",
   "metadata": {},
   "outputs": [],
   "source": [
    "data_un = np.array([\n",
    "    1, 5, 6\n",
    "])"
   ]
  },
  {
   "cell_type": "markdown",
   "id": "86a6a9e4",
   "metadata": {},
   "source": [
    "### Tableau d'une liste"
   ]
  },
  {
   "cell_type": "code",
   "execution_count": 10,
   "id": "3c166ff6",
   "metadata": {},
   "outputs": [],
   "source": [
    "data_un = np.array([\n",
    "    [1,5,6]\n",
    "])"
   ]
  },
  {
   "cell_type": "code",
   "execution_count": 11,
   "id": "bdad5c98",
   "metadata": {},
   "outputs": [
    {
     "data": {
      "text/plain": [
       "2"
      ]
     },
     "execution_count": 11,
     "metadata": {},
     "output_type": "execute_result"
    }
   ],
   "source": [
    "data_un.ndim"
   ]
  },
  {
   "cell_type": "markdown",
   "id": "3c3920e2",
   "metadata": {},
   "source": [
    "### Tableau avec deux listes"
   ]
  },
  {
   "cell_type": "code",
   "execution_count": 12,
   "id": "d32eb96c",
   "metadata": {},
   "outputs": [],
   "source": [
    "data_deux = np.array([\n",
    "    [1,5,6],\n",
    "    [9,4,7]\n",
    "])"
   ]
  },
  {
   "cell_type": "code",
   "execution_count": 13,
   "id": "f4c22b62",
   "metadata": {},
   "outputs": [
    {
     "data": {
      "text/plain": [
       "2"
      ]
     },
     "execution_count": 13,
     "metadata": {},
     "output_type": "execute_result"
    }
   ],
   "source": [
    "data_deux.ndim"
   ]
  },
  {
   "cell_type": "markdown",
   "id": "97a5fc56",
   "metadata": {},
   "source": [
    "### Tableau avec trois listes"
   ]
  },
  {
   "cell_type": "code",
   "execution_count": 18,
   "id": "c099668a",
   "metadata": {},
   "outputs": [],
   "source": [
    "data = np.array([\n",
    "    [1,5,6,2],\n",
    "    [9,4,7,8],\n",
    "    [0,1,0,6]\n",
    "])"
   ]
  },
  {
   "cell_type": "code",
   "execution_count": 19,
   "id": "ae5dd970",
   "metadata": {},
   "outputs": [
    {
     "name": "stdout",
     "output_type": "stream",
     "text": [
      "6\n"
     ]
    }
   ],
   "source": [
    "print(data[0][2])"
   ]
  },
  {
   "cell_type": "markdown",
   "id": "43fbf61d",
   "metadata": {},
   "source": [
    "### Tableau de trois dimensions"
   ]
  },
  {
   "cell_type": "code",
   "execution_count": 20,
   "id": "64bd516b",
   "metadata": {},
   "outputs": [],
   "source": [
    "data_trois = np.array([\n",
    "    [[1,5,9],\n",
    "     [8,9,7]],\n",
    "    \n",
    "    [[2,5,9],\n",
    "     [8,9,7]],\n",
    "\n",
    "    [[13,5,9],\n",
    "     [8,9,7]]\n",
    "])"
   ]
  },
  {
   "cell_type": "code",
   "execution_count": 21,
   "id": "200e1ef2",
   "metadata": {},
   "outputs": [
    {
     "name": "stdout",
     "output_type": "stream",
     "text": [
      "9\n"
     ]
    }
   ],
   "source": [
    "print(data_trois[0][0][2])"
   ]
  },
  {
   "cell_type": "code",
   "execution_count": 22,
   "id": "2efc4456",
   "metadata": {},
   "outputs": [
    {
     "data": {
      "text/plain": [
       "(3, 2, 3)"
      ]
     },
     "execution_count": 22,
     "metadata": {},
     "output_type": "execute_result"
    }
   ],
   "source": [
    "data_trois.shape"
   ]
  },
  {
   "cell_type": "markdown",
   "id": "c3f380a0",
   "metadata": {},
   "source": [
    "## Accéder aux éléments d'un tableau"
   ]
  },
  {
   "cell_type": "code",
   "execution_count": 23,
   "id": "8ce1231c",
   "metadata": {},
   "outputs": [
    {
     "data": {
      "text/plain": [
       "np.int64(7)"
      ]
     },
     "execution_count": 23,
     "metadata": {},
     "output_type": "execute_result"
    }
   ],
   "source": [
    "data_trois[2,1,2]"
   ]
  },
  {
   "cell_type": "markdown",
   "id": "e5c17988",
   "metadata": {},
   "source": [
    "Faire du slicing sur un sous_tableau"
   ]
  },
  {
   "cell_type": "code",
   "execution_count": 24,
   "id": "e16bdec7",
   "metadata": {},
   "outputs": [
    {
     "data": {
      "text/plain": [
       "array([[8, 9, 7]])"
      ]
     },
     "execution_count": 24,
     "metadata": {},
     "output_type": "execute_result"
    }
   ],
   "source": [
    "data_trois[0][1:]"
   ]
  },
  {
   "cell_type": "markdown",
   "id": "1068b4d5",
   "metadata": {},
   "source": [
    "Ce slicing prend toutes les listes de 0 à la fin et à partir du deuxième éléments de chaque sous-liste"
   ]
  },
  {
   "cell_type": "code",
   "execution_count": 27,
   "id": "42ed7781",
   "metadata": {},
   "outputs": [
    {
     "data": {
      "text/plain": [
       "array([[[8, 9, 7]],\n",
       "\n",
       "       [[8, 9, 7]],\n",
       "\n",
       "       [[8, 9, 7]]])"
      ]
     },
     "execution_count": 27,
     "metadata": {},
     "output_type": "execute_result"
    }
   ],
   "source": [
    "data_trois[0: , 1:]"
   ]
  },
  {
   "cell_type": "markdown",
   "id": "6ce58252",
   "metadata": {},
   "source": [
    "## Créer un tableau avec éléments aléatoires"
   ]
  },
  {
   "cell_type": "markdown",
   "id": "84269ec6",
   "metadata": {},
   "source": [
    "_arange_ permet d'avoir un nombre d'éléments à la suive et _reshape_ permet de lui donner une forme"
   ]
  },
  {
   "cell_type": "code",
   "execution_count": 28,
   "id": "ed110ad1",
   "metadata": {},
   "outputs": [],
   "source": [
    "matrice = np.arange(9).reshape((3,3))"
   ]
  },
  {
   "cell_type": "code",
   "execution_count": 29,
   "id": "a11378a6",
   "metadata": {},
   "outputs": [
    {
     "data": {
      "text/plain": [
       "array([[0, 1, 2],\n",
       "       [3, 4, 5],\n",
       "       [6, 7, 8]])"
      ]
     },
     "execution_count": 29,
     "metadata": {},
     "output_type": "execute_result"
    }
   ],
   "source": [
    "matrice"
   ]
  },
  {
   "cell_type": "markdown",
   "id": "f82b6b13",
   "metadata": {},
   "source": [
    "Si le *=* nous permet de copier un tableau, il cré en fait une vue et ceci a l'erreur que toute modification sur la liste initiale entraîne une modification de la vue.\n",
    "\n",
    "Le meilleur moyen d'éviter une telle situation est d'utiliser _.copy()_"
   ]
  },
  {
   "cell_type": "code",
   "execution_count": 30,
   "id": "004a9556",
   "metadata": {},
   "outputs": [],
   "source": [
    "data = matrice[:2, :2].copy()"
   ]
  },
  {
   "cell_type": "code",
   "execution_count": 31,
   "id": "d5fa3ace",
   "metadata": {},
   "outputs": [
    {
     "data": {
      "text/plain": [
       "array([[0, 1],\n",
       "       [3, 4]])"
      ]
     },
     "execution_count": 31,
     "metadata": {},
     "output_type": "execute_result"
    }
   ],
   "source": [
    "data"
   ]
  },
  {
   "cell_type": "markdown",
   "id": "4b2f1724",
   "metadata": {},
   "source": [
    "## Créer un tableau de taille"
   ]
  },
  {
   "cell_type": "markdown",
   "id": "4cca4c0a",
   "metadata": {},
   "source": [
    "La ligne de code ci-dessous crée un tableau de forme (2, 5) et le remplit avec des données aléatoires compris de 0 à 100"
   ]
  },
  {
   "cell_type": "code",
   "execution_count": null,
   "id": "ca16381a",
   "metadata": {},
   "outputs": [],
   "source": [
    "x = np.random.randint(100, size=(2,5))"
   ]
  },
  {
   "cell_type": "markdown",
   "id": "f4147391",
   "metadata": {},
   "source": [
    "Avec reshape, on peut modifier la forme de l'élément, mais cette modification doit en faire sorte que le nombre d'éléments reste le même."
   ]
  },
  {
   "cell_type": "markdown",
   "id": "5de117a3",
   "metadata": {},
   "source": [
    "## Concaténer des tableaux numpy"
   ]
  },
  {
   "cell_type": "code",
   "execution_count": 32,
   "id": "946374d4",
   "metadata": {},
   "outputs": [],
   "source": [
    "u = np.array([\n",
    "    [1,5,6]\n",
    "])"
   ]
  },
  {
   "cell_type": "code",
   "execution_count": 33,
   "id": "03235f22",
   "metadata": {},
   "outputs": [],
   "source": [
    "v = np.array([\n",
    "    [7,8,9]\n",
    "])"
   ]
  },
  {
   "cell_type": "markdown",
   "id": "cc01e1d8",
   "metadata": {},
   "source": [
    "Concaténer sur la vertical = vstack. Par contre l'horizontal est hstack et il concatène en ligne"
   ]
  },
  {
   "cell_type": "code",
   "execution_count": 34,
   "id": "4d29c642",
   "metadata": {},
   "outputs": [],
   "source": [
    "tab = np.vstack([u,v])"
   ]
  },
  {
   "cell_type": "code",
   "execution_count": 35,
   "id": "16a827d3",
   "metadata": {},
   "outputs": [
    {
     "data": {
      "text/plain": [
       "array([[1, 5, 6],\n",
       "       [7, 8, 9]])"
      ]
     },
     "execution_count": 35,
     "metadata": {},
     "output_type": "execute_result"
    }
   ],
   "source": [
    "tab"
   ]
  },
  {
   "cell_type": "markdown",
   "id": "7668062a",
   "metadata": {},
   "source": [
    "## Calcul sur les tableaux numpy"
   ]
  },
  {
   "cell_type": "code",
   "execution_count": 36,
   "id": "a4b89481",
   "metadata": {},
   "outputs": [],
   "source": [
    "nombres = list(range(2, 9))"
   ]
  },
  {
   "cell_type": "code",
   "execution_count": 37,
   "id": "596af7f6",
   "metadata": {},
   "outputs": [
    {
     "data": {
      "text/plain": [
       "[2, 3, 4, 5, 6, 7, 8]"
      ]
     },
     "execution_count": 37,
     "metadata": {},
     "output_type": "execute_result"
    }
   ],
   "source": [
    "nombres"
   ]
  },
  {
   "cell_type": "markdown",
   "id": "ec854e6e",
   "metadata": {},
   "source": [
    "Nous utilisons la longueur de la liste nombres pour créer un tableau numpy vide (avec des données aléatoires) avec _.empty_"
   ]
  },
  {
   "cell_type": "code",
   "execution_count": 38,
   "id": "cfc59c5e",
   "metadata": {},
   "outputs": [
    {
     "data": {
      "text/plain": [
       "array([1.96337241e-316, 0.00000000e+000, 6.19495161e-310, 6.19495161e-310,\n",
       "       6.19495161e-310, 6.19495161e-310, 3.47822215e-321])"
      ]
     },
     "execution_count": 38,
     "metadata": {},
     "output_type": "execute_result"
    }
   ],
   "source": [
    "output = np.empty(len(nombres))\n",
    "output"
   ]
  },
  {
   "cell_type": "markdown",
   "id": "bf7a46ab",
   "metadata": {},
   "source": [
    "enumerate permet de boucler et d'avoir et l'index et la valeur"
   ]
  },
  {
   "cell_type": "code",
   "execution_count": 39,
   "id": "6a1abb0d",
   "metadata": {},
   "outputs": [
    {
     "data": {
      "text/plain": [
       "array([0.5       , 0.33333333, 0.25      , 0.2       , 0.16666667,\n",
       "       0.14285714, 0.125     ])"
      ]
     },
     "execution_count": 39,
     "metadata": {},
     "output_type": "execute_result"
    }
   ],
   "source": [
    "for i, n in enumerate(nombres):\n",
    "    output[i] = 1/n\n",
    "output"
   ]
  },
  {
   "cell_type": "markdown",
   "id": "d1d8d360",
   "metadata": {},
   "source": [
    "Plutot que de faire la boucle précédente qui est vorace en ressources, on peut profiter des avantages de numpy"
   ]
  },
  {
   "cell_type": "code",
   "execution_count": 41,
   "id": "403f4331",
   "metadata": {},
   "outputs": [
    {
     "data": {
      "text/plain": [
       "array([0.5       , 0.33333333, 0.25      , 0.2       , 0.16666667,\n",
       "       0.14285714, 0.125     ])"
      ]
     },
     "execution_count": 41,
     "metadata": {},
     "output_type": "execute_result"
    }
   ],
   "source": [
    "tab_array = np.array(nombres)\n",
    "1 / tab_array"
   ]
  },
  {
   "cell_type": "markdown",
   "id": "78cb6605",
   "metadata": {},
   "source": [
    "## La vectorisation"
   ]
  },
  {
   "cell_type": "code",
   "execution_count": 42,
   "id": "2a5b8ddf",
   "metadata": {},
   "outputs": [
    {
     "data": {
      "text/plain": [
       "[25, 64, 81]"
      ]
     },
     "execution_count": 42,
     "metadata": {},
     "output_type": "execute_result"
    }
   ],
   "source": [
    "l = [5,8,9]\n",
    "[n**2 for n in l]"
   ]
  },
  {
   "cell_type": "code",
   "execution_count": 43,
   "id": "f76d329c",
   "metadata": {},
   "outputs": [
    {
     "data": {
      "text/plain": [
       "array([25, 64, 81])"
      ]
     },
     "execution_count": 43,
     "metadata": {},
     "output_type": "execute_result"
    }
   ],
   "source": [
    "np.array(l) ** 2"
   ]
  },
  {
   "cell_type": "code",
   "execution_count": 44,
   "id": "e40c70b6",
   "metadata": {},
   "outputs": [
    {
     "data": {
      "text/plain": [
       "array([ 6.5,  9.5, 10.5])"
      ]
     },
     "execution_count": 44,
     "metadata": {},
     "output_type": "execute_result"
    }
   ],
   "source": [
    "np.array(l) + 1.5"
   ]
  },
  {
   "cell_type": "markdown",
   "id": "a6b91b15",
   "metadata": {},
   "source": [
    "## Aggrégation"
   ]
  },
  {
   "cell_type": "code",
   "execution_count": 45,
   "id": "f1ec9854",
   "metadata": {},
   "outputs": [
    {
     "data": {
      "text/plain": [
       "5"
      ]
     },
     "execution_count": 45,
     "metadata": {},
     "output_type": "execute_result"
    }
   ],
   "source": [
    "min(l)"
   ]
  },
  {
   "cell_type": "code",
   "execution_count": 46,
   "id": "5392ee6b",
   "metadata": {},
   "outputs": [
    {
     "data": {
      "text/plain": [
       "np.int64(5)"
      ]
     },
     "execution_count": 46,
     "metadata": {},
     "output_type": "execute_result"
    }
   ],
   "source": [
    "np.min(l)"
   ]
  },
  {
   "cell_type": "code",
   "execution_count": 47,
   "id": "e1905aad",
   "metadata": {},
   "outputs": [
    {
     "data": {
      "text/plain": [
       "np.int64(5)"
      ]
     },
     "execution_count": 47,
     "metadata": {},
     "output_type": "execute_result"
    }
   ],
   "source": [
    "np.array(l).min()"
   ]
  },
  {
   "cell_type": "code",
   "execution_count": 49,
   "id": "b68a654f",
   "metadata": {},
   "outputs": [
    {
     "data": {
      "text/plain": [
       "array([[12,  5,  0],\n",
       "       [ 3, 11,  3],\n",
       "       [ 7,  9,  3],\n",
       "       [ 5,  2,  4],\n",
       "       [ 7,  6,  8]])"
      ]
     },
     "execution_count": 49,
     "metadata": {},
     "output_type": "execute_result"
    }
   ],
   "source": [
    "np.random.seed(0)\n",
    "tab = np.random.randint(15, size=(5, 3))\n",
    "tab"
   ]
  },
  {
   "cell_type": "code",
   "execution_count": 50,
   "id": "0f4963c6",
   "metadata": {},
   "outputs": [
    {
     "data": {
      "text/plain": [
       "np.int64(0)"
      ]
     },
     "execution_count": 50,
     "metadata": {},
     "output_type": "execute_result"
    }
   ],
   "source": [
    "np.min(tab)"
   ]
  },
  {
   "cell_type": "markdown",
   "id": "91b52442",
   "metadata": {},
   "source": [
    "### Trouver le minimum sur un axe donné"
   ]
  },
  {
   "cell_type": "code",
   "execution_count": 51,
   "id": "cb401b6d",
   "metadata": {},
   "outputs": [
    {
     "data": {
      "text/plain": [
       "array([3, 2, 0])"
      ]
     },
     "execution_count": 51,
     "metadata": {},
     "output_type": "execute_result"
    }
   ],
   "source": [
    "np.min(tab, axis=0) #les colonnes"
   ]
  },
  {
   "cell_type": "code",
   "execution_count": 52,
   "id": "21d539c9",
   "metadata": {},
   "outputs": [
    {
     "data": {
      "text/plain": [
       "array([0, 3, 3, 2, 6])"
      ]
     },
     "execution_count": 52,
     "metadata": {},
     "output_type": "execute_result"
    }
   ],
   "source": [
    "np.min(tab, axis=1) #les lignes"
   ]
  },
  {
   "cell_type": "code",
   "execution_count": 53,
   "id": "766019d2",
   "metadata": {},
   "outputs": [
    {
     "data": {
      "text/plain": [
       "array([5.66666667, 5.66666667, 6.33333333, 3.66666667, 7.        ])"
      ]
     },
     "execution_count": 53,
     "metadata": {},
     "output_type": "execute_result"
    }
   ],
   "source": [
    "np.mean(tab, axis=1)"
   ]
  },
  {
   "cell_type": "code",
   "execution_count": 54,
   "id": "282657ac",
   "metadata": {},
   "outputs": [
    {
     "data": {
      "text/plain": [
       "array([34, 33, 18])"
      ]
     },
     "execution_count": 54,
     "metadata": {},
     "output_type": "execute_result"
    }
   ],
   "source": [
    "np.sum(tab, axis=0)"
   ]
  },
  {
   "cell_type": "markdown",
   "id": "fd50764f",
   "metadata": {},
   "source": [
    "## Analyse de données"
   ]
  },
  {
   "cell_type": "markdown",
   "id": "b0ccca45",
   "metadata": {},
   "source": [
    "On crée des données fictives"
   ]
  },
  {
   "cell_type": "code",
   "execution_count": 58,
   "id": "dea3081c",
   "metadata": {},
   "outputs": [
    {
     "data": {
      "text/plain": [
       "array([[ 0,  4,  5],\n",
       "       [ 6,  8, 17],\n",
       "       [15,  4,  9],\n",
       "       [10,  1,  1],\n",
       "       [ 7,  9,  3],\n",
       "       [ 6, 11, 14],\n",
       "       [18,  0, 14],\n",
       "       [ 3, 12, 10],\n",
       "       [11,  4,  6],\n",
       "       [ 4, 15,  3]])"
      ]
     },
     "execution_count": 58,
     "metadata": {},
     "output_type": "execute_result"
    }
   ],
   "source": [
    "notes = np.random.randint(19, size=(10, 3))\n",
    "notes"
   ]
  },
  {
   "cell_type": "markdown",
   "id": "200589c2",
   "metadata": {},
   "source": [
    "Chaque ligne représente un étudiant avec ses notes en Maths, Physique et Biologie"
   ]
  },
  {
   "cell_type": "code",
   "execution_count": 59,
   "id": "07f8e0b3",
   "metadata": {},
   "outputs": [
    {
     "data": {
      "text/plain": [
       "(10, 3)"
      ]
     },
     "execution_count": 59,
     "metadata": {},
     "output_type": "execute_result"
    }
   ],
   "source": [
    "notes.shape"
   ]
  },
  {
   "cell_type": "markdown",
   "id": "6be9b2cb",
   "metadata": {},
   "source": [
    "La moyenne de chaque matière"
   ]
  },
  {
   "cell_type": "code",
   "execution_count": 61,
   "id": "4e5438f6",
   "metadata": {},
   "outputs": [
    {
     "data": {
      "text/plain": [
       "array([8. , 6.8, 8.2])"
      ]
     },
     "execution_count": 61,
     "metadata": {},
     "output_type": "execute_result"
    }
   ],
   "source": [
    "notes.mean(axis=0)"
   ]
  },
  {
   "cell_type": "markdown",
   "id": "240dab00",
   "metadata": {},
   "source": [
    "Moyenne par étudiant"
   ]
  },
  {
   "cell_type": "code",
   "execution_count": 63,
   "id": "3bbfa856",
   "metadata": {},
   "outputs": [
    {
     "data": {
      "text/plain": [
       "array([ 3.        , 10.33333333,  9.33333333,  4.        ,  6.33333333,\n",
       "       10.33333333, 10.66666667,  8.33333333,  7.        ,  7.33333333])"
      ]
     },
     "execution_count": 63,
     "metadata": {},
     "output_type": "execute_result"
    }
   ],
   "source": [
    "moy_etudiant = notes.mean(axis=1)\n",
    "moy_etudiant"
   ]
  },
  {
   "cell_type": "markdown",
   "id": "fa3838a1",
   "metadata": {},
   "source": [
    "Etudiants ayant une note >= 10"
   ]
  },
  {
   "cell_type": "code",
   "execution_count": 67,
   "id": "279fa59a",
   "metadata": {},
   "outputs": [
    {
     "data": {
      "text/plain": [
       "np.int64(3)"
      ]
     },
     "execution_count": 67,
     "metadata": {},
     "output_type": "execute_result"
    }
   ],
   "source": [
    "np.sum(moy_etudiant >= 10)"
   ]
  },
  {
   "cell_type": "code",
   "execution_count": null,
   "id": "9d6f9fba",
   "metadata": {},
   "outputs": [],
   "source": []
  }
 ],
 "metadata": {
  "kernelspec": {
   "display_name": "Python 3",
   "language": "python",
   "name": "python3"
  },
  "language_info": {
   "codemirror_mode": {
    "name": "ipython",
    "version": 3
   },
   "file_extension": ".py",
   "mimetype": "text/x-python",
   "name": "python",
   "nbconvert_exporter": "python",
   "pygments_lexer": "ipython3",
   "version": "3.12.3"
  }
 },
 "nbformat": 4,
 "nbformat_minor": 5
}
